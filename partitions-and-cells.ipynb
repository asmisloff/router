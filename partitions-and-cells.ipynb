{
  "cells": [
    {
      "cell_type": "code",
      "execution_count": 18,
      "metadata": {
        "id": "STLoNhp_1kVP"
      },
      "outputs": [],
      "source": [
        "from typing import List, Set\n",
        "from enum import Enum\n",
        "from random import randint\n",
        "from itertools import combinations_with_replacement"
      ]
    },
    {
      "cell_type": "code",
      "execution_count": 21,
      "metadata": {
        "id": "CErWBgdWGRRe"
      },
      "outputs": [],
      "source": [
        "from typing import Tuple\n",
        "\n",
        "\n",
        "class Partition:\n",
        "    def __init__(self, xLeft: float, xRight: float, leftNodes: List[Node], rightNodes: List[Node], zeroNode: Node, lattice: AcNetworkLattice, graph: CircuitGraph) -> None:\n",
        "        self.xLeft = round(xLeft, 3)\n",
        "        self.xRight = round(xRight, 3)\n",
        "        self.leftNodes = leftNodes\n",
        "        self.rightNodes = rightNodes\n",
        "        self.zeroNode: Node = zeroNode\n",
        "        self.firstCell = None\n",
        "        self.lastCell = None\n",
        "        self.__payloads: List[Payload] = []\n",
        "        self.__cellQty = 1\n",
        "        self.lattice = lattice\n",
        "        self.graph = graph\n",
        "\n",
        "    def ensureCapacity(self, payloadCoordinates: List[float]):\n",
        "        coordinates: Set[float] = set()\n",
        "        for x in payloadCoordinates:\n",
        "            if gt(x, self.xLeft) and ls(x, self.xRight) and not eq(x, self.xLeft) and not eq(x, self.xRight):\n",
        "                coordinates.add(round(x, 3))\n",
        "        print(coordinates)\n",
        "        if len(coordinates) > self.__cellQty:\n",
        "            self.__cellQty = len(coordinates) + 1\n",
        "\n",
        "    def initCells(self) -> None:\n",
        "        self.firstCell = Cell(self.xLeft, self.xRight, self.leftNodes, self.rightNodes, self.zeroNode, \"1\", self.lattice, self.graph)\n",
        "        prev = self.firstCell\n",
        "        for i in range(1, self.__cellQty):\n",
        "            rightNodes = [Node(self.xRight, n.trackNumber) for n in self.rightNodes]\n",
        "            next = Cell(self.xRight, self.xRight, prev.rightNodes, rightNodes, self.zeroNode, str(i + 1), self.lattice, self.graph)\n",
        "            next.prev = prev\n",
        "            prev.next = next\n",
        "            prev = next\n",
        "        self.lastCell = prev\n",
        "\n",
        "    def addPayload(self, pl:Payload) -> bool:\n",
        "        if self.firstCell is None or self.lastCell is None:\n",
        "            raise Exception()\n",
        "        if gt(pl.x, self.xLeft) and ls(pl.x, self.xRight):\n",
        "            self.__payloads.append(pl)\n",
        "            return True\n",
        "        return False\n",
        "\n",
        "    def addPayloads(self, pls: List[Payload]) -> int:\n",
        "        cnt = 0\n",
        "        for pl in pls:\n",
        "            if self.addPayload(pl):\n",
        "                cnt += 1\n",
        "        return cnt\n",
        "\n",
        "    def arrangePayloads(self) -> None:\n",
        "        if self.firstCell is None or self.lastCell is None:\n",
        "            raise Exception()\n",
        "        self.__payloads.sort(key=lambda pl: pl.x)\n",
        "        self.firstCell.pullRightSection(self.lastCell.xRight) # стянуть все ячейки к правой границе\n",
        "        cell = self.firstCell\n",
        "        for pl in self.__payloads:\n",
        "            cell, n = self.__addPayloadToCell(cell, pl)\n",
        "            self.graph.addEdge(n, self.zeroNode, pl.iplEdge)\n",
        "    \n",
        "    def removePayloads(self):\n",
        "        self.__payloads.clear()   \n",
        "\n",
        "    def __addPayloadToCell(self, cell: Cell, pl: Payload) -> Tuple[Cell, Node]:\n",
        "        if eq(cell.xLeft, pl.x) or eq(cell.xRight, pl.x):\n",
        "            return cell, cell.findNodeToConnect(pl)\n",
        "        elif pl.x < cell.xRight:\n",
        "            cell.pullRightSection(pl.x)\n",
        "            return cell, cell.findNodeToConnect(pl)\n",
        "        elif pl.x > cell.xRight and cell.next is not None:\n",
        "            return self.__addPayloadToCell(cell.next, pl)\n",
        "        else:\n",
        "            raise Exception()"
      ]
    },
    {
      "cell_type": "code",
      "execution_count": 26,
      "metadata": {
        "colab": {
          "base_uri": "https://localhost:8080/"
        },
        "id": "J8nGoZfSwTJJ",
        "outputId": "d039bc3f-9a13-4c53-a93f-93b7f9793a4d"
      },
      "outputs": [
        {
          "name": "stdout",
          "output_type": "stream",
          "text": [
            "payloads = [{x: -0.0003, li: 1, br: 0}, {x: 11, li: 1, br: 0}, {x: 19.5, li: 1, br: 0}, {x: 17.9996, li: 1, br: 0}, {x: 18, li: 1, br: 0}, {x: 18.5, li: 1, br: 0}, {x: 3, li: 1, br: 0}]\n",
            "{3, 11, 18.5, 19.5, 18.0}\n",
            "cells = 0..3 | 3..11 | 11..18.0 | 18.0..18.5 | 18.5..19.5 | 19.5..20\n"
          ]
        }
      ],
      "source": [
        "payloads = [Payload(x) for x in (-0.0003, 11, 19.5, 17.9996, 18, 18.5, 3)]\n",
        "print(f\"payloads = {payloads}\")\n",
        "\n",
        "leftNodes = [Node(0, i + 1) for i in range(3)]\n",
        "rightNodes = [Node(20, i + 1) for i in range(3)]\n",
        "p = Partition(0, 20, leftNodes, rightNodes, Node(0), AcNetworkLattice(), CircuitGraph())\n",
        "p.ensureCapacity([p.x for p in payloads])\n",
        "p.initCells()\n",
        "p.addPayloads(payloads)\n",
        "\n",
        "p.arrangePayloads()\n",
        "\n",
        "cell = p.firstCell\n",
        "cellSummary = []\n",
        "while cell is not None:\n",
        "    cellSummary.append(f\"{cell.xLeft}..{cell.xRight}\")\n",
        "    cell = cell.next\n",
        "print(\"cells = \" + \" | \".join(cellSummary))"
      ]
    }
  ],
  "metadata": {
    "colab": {
      "provenance": []
    },
    "kernelspec": {
      "display_name": "Python 3",
      "name": "python3"
    },
    "language_info": {
      "codemirror_mode": {
        "name": "ipython",
        "version": 3
      },
      "file_extension": ".py",
      "mimetype": "text/x-python",
      "name": "python",
      "nbconvert_exporter": "python",
      "pygments_lexer": "ipython3",
      "version": "3.11.5"
    }
  },
  "nbformat": 4,
  "nbformat_minor": 0
}
